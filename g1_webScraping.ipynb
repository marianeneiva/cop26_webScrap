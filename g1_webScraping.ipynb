{
 "cells": [
  {
   "cell_type": "markdown",
   "metadata": {},
   "source": [
    "# COLECTING INFORMATION ON **COP26** FROM BRAZILIAN WEBSITE **G1** AND SHOWING AS A WORD CLOUD\n",
    "\n",
    "\n",
    "The 2021 Conference of  (COP 26) is happening from 31th of October to 12h of November. It aggregates the countries that have signed the UN Framework Convention of Climate Change (UNFCCC) and bring together several countries' leaders to address climate change. \n",
    "\n",
    "Regarding the event's size, this project aims to use web scrapping to get information around the conference and plot as a word cloud. \n",
    "\n",
    "The source of our information is the g1 portal, an important Brazilian news website.                      "
   ]
  },
  {
   "cell_type": "markdown",
   "metadata": {},
   "source": [
    "# The Libraries \n",
    "\n",
    "We are using selenium and beautifulSoup to collect data from G1. Then, the first step is to import the required libraries.\n"
   ]
  },
  {
   "cell_type": "code",
   "execution_count": null,
   "metadata": {},
   "outputs": [],
   "source": [
    "from selenium import webdriver\n",
    "from selenium.webdriver.chrome.options import Options\n",
    "import time\n",
    "import requests\n",
    "from bs4 import BeautifulSoup"
   ]
  },
  {
   "cell_type": "markdown",
   "metadata": {},
   "source": [
    "# Reading the website\n",
    "\n",
    "To cut some steps, we are retrieving data from the search result page in G1 (https://g1.globo.com/busca/?q=COP+26)\n"
   ]
  },
  {
   "cell_type": "code",
   "execution_count": null,
   "metadata": {},
   "outputs": [],
   "source": [
    "url = 'https://g1.globo.com/busca/?q=COP+26' # The url we are using to access"
   ]
  },
  {
   "cell_type": "markdown",
   "metadata": {},
   "source": [
    "You can use several browsers with selenium. In this project, we are using Google Chrome. \n",
    "\n",
    "To download your driver, click here: https://chromedriver.chromium.org/downloads \n",
    "\n",
    "Do not forget to find the correct version (according to your system and number)."
   ]
  },
  {
   "cell_type": "code",
   "execution_count": 2,
   "metadata": {},
   "outputs": [
    {
     "name": "stdout",
     "output_type": "stream",
     "text": [
      "trying to accesss https://g1.globo.com/busca/?q=COP+26\n"
     ]
    }
   ],
   "source": [
    "driver = webdriver.Chrome('C:/Users/maria/Documents/portfolio/Untitled Folder/chromedriver', options=option)"
   ]
  },
  {
   "cell_type": "markdown",
   "metadata": {},
   "source": [
    "Then, let's set up the option to prevent google from opening while the code is running."
   ]
  },
  {
   "cell_type": "code",
   "execution_count": 3,
   "metadata": {},
   "outputs": [],
   "source": [
    "option = Options() \n",
    "option.headless = True "
   ]
  },
  {
   "cell_type": "markdown",
   "metadata": {},
   "source": [
    "As the page loads with more news and interests us, we use 'execute_script' to scroll the page and show more."
   ]
  },
  {
   "cell_type": "code",
   "execution_count": null,
   "metadata": {
    "scrolled": false
   },
   "outputs": [],
   "source": [
    "driver.execute_script(\"window.scrollTo(0, document.body.scrollHeight);\")\n",
    "time.sleep(10) #Waiting to have all data loaded"
   ]
  },
  {
   "cell_type": "markdown",
   "metadata": {},
   "source": [
    "# Finding the content\n",
    "\n",
    "Selenium works by retrieving data from webpage source code. To get the code, use Ctrl + U in google chrome.\n",
    "\n",
    "Find the tag where the content (title and summary) of the data we want to analyze is. \n",
    "\n",
    "In this project, the element of the html is 'content'. Get the HTML using function get_attribute.\n",
    "\n",
    "Finally, after quitting the browser,  Beautifulsoup converts the HTML to a better structure to manage the information. "
   ]
  },
  {
   "cell_type": "code",
   "execution_count": null,
   "metadata": {},
   "outputs": [],
   "source": [
    "element = driver.find_element_by_id(\"content\")\n",
    "html = element.get_attribute('outerHTML')\n",
    "driver.quit() #closes the browser \n",
    "\n",
    "soup = BeautifulSoup(html, 'lxml') #Interpretando o html"
   ]
  },
  {
   "cell_type": "markdown",
   "metadata": {},
   "source": [
    "# Title and summary\n",
    "\n",
    "We use the title (in widget--info__title product-color) and the summary (in widget--info__description) to create our database and store in 'texto'."
   ]
  },
  {
   "cell_type": "code",
   "execution_count": 5,
   "metadata": {},
   "outputs": [
    {
     "name": "stdout",
     "output_type": "stream",
     "text": [
      "titulo   COP-26 debate financiamento do combate às mudanças climáticas\n",
      "    \n",
      "titulo   Participantes da COP 26 discutem alternativas para reduzir a emissão de poluentes\n",
      "    \n",
      "titulo   Destruição da floresta aumenta no governo Bolsonaro apesar da meta assumida na Cop-26\n",
      "    \n",
      "titulo   Entenda porque a Cop 26 é importante\n",
      "    \n",
      "titulo   COP-26: Países concordam em reduzir emissão do gás metano e acabar com desmatamento\n",
      "    \n",
      "titulo   Pavilhão Brasil é inaugurado na COP 26\n",
      "    \n",
      "titulo   Indígena brasileira discursa na COP-26, em Glasgow\n",
      "    \n",
      "titulo   Txai Suruí, ativista de 24 anos, faz discurso na abertura da COP-26\n",
      "    \n",
      "titulo   Cop 26: Brasil apoia declaração assinada por outros 104 países para combater desmatamento\n",
      "    \n",
      "titulo   Ministro do Meio Ambiente abre participação brasileira na COP 26\n",
      "    \n",
      "titulo   Avanços tímidos no G20 esvaziam expectativas para a COP 26\n",
      "    \n",
      "titulo   Fotógrafa Marcela Bonfim tem fotos expostas na COP 26\n",
      "    \n",
      "titulo   Jovem indígena Txai, do povo Paiter Suruí de Rondônia, discursa na COP 26\n",
      "    \n",
      "titulo   Príncipe Charles, herdeiro do trono britânico, discursou na abertura da COP-26\n",
      "    \n",
      "titulo   COP-26: Conferência das Nações Unidas começa em Glasgow, na Escócia\n",
      "    \n",
      "titulo   Jovens ativistas levarão propostas para os líderes na COP 26\n",
      "    \n",
      "titulo   Na véspera do início da COP 26, líderes mundiais discutem ações mais firmes contra o aquecimento global\n",
      "    \n",
      "titulo   Pará vai falar sobre preservação da Amazônia na COP-26\n",
      "    \n",
      "titulo   Estado vai tentar provar na Cop-26 que defende a floresta amazônica\n",
      "    \n",
      "titulo   Na véspera do início da COP 26, líderes mundiais discutem ações mais firmes contra o aquecimento global\n",
      "    \n",
      "titulo   COP-26: os desafios de Roraima em relação ao garimpo\n",
      "    \n",
      "titulo   Eliane: ‘Quem está sendo apedrejado na COP 26 é a política ambiental do Brasil’\n",
      "    \n",
      "titulo   Em sessão extraordinária, vereadores aprovam viagem do prefeito de Rio Branco para participar da COP 26\n",
      "    \n",
      "titulo   Na véspera do início da COP 26, líderes mundiais discutem ações mais firmes contra o aquecimento global\n",
      "    \n",
      "titulo   Pará deve apresentar estratégias na COP 26 para se tornar estado ‘carbono neutro’\n",
      "    \n",
      "titulo   'Todo mundo vai jogar pedra nele', diz Mourão sobre ausência de Bolsonaro na COP 26\n",
      "    \n",
      "titulo   Cientistas cobram ação de líderes mundiais antes da COP 26\n",
      "    \n",
      "titulo   Governo do Pará apresenta ações desenvolvidas na agenda climática para a COP 26\n",
      "    \n",
      "titulo   Gestora ambiental do Conselho Indígena de RR participa do COP 26\n",
      "    \n",
      "  COP-26 debate financiamento do combate às mudanças climáticas\n",
      "     O foco do terceiro dia da COP-26 se volta para as estratégias de financiamento da transição para economias mais verdes. Temas difíceis seguem na mesa de discussão.   Participantes da COP 26 discutem alternativas para reduzir a emissão de poluentes\n",
      "     Participantes da COP 26 discutem alternativas para reduzir a emissão de poluentes   Destruição da floresta aumenta no governo Bolsonaro apesar da meta assumida na Cop-26\n",
      "     Ambientalistas alertam para o desmonte da fiscalização.   Entenda porque a Cop 26 é importante\n",
      "     Indígena rondoniense discursou no evento internacional   COP-26: Países concordam em reduzir emissão do gás metano e acabar com desmatamento\n",
      "     Os líderes reunidos em Glasgow pra COP-26, a conferência do clima da ONU, anunciaram nesta terça-feira (2) dois importantes...   Pavilhão Brasil é inaugurado na COP 26\n",
      "     De Brasília, ministro do Meio Ambiente inaugurou estrutura na Escócia.   Indígena brasileira discursa na COP-26, em Glasgow\n",
      "     Líderes mundiais destacaram urgência de medidas para conter aquecimento global.   Txai Suruí, ativista de 24 anos, faz discurso na abertura da COP-26\n",
      "     Chamou a atenção a única fala do Brasil nesta segunda-feira (2) na plenária da COP-26. E foi de uma jovem mulher indígena. Mas além de energia para investimento, temos outros impactos importantes\n",
      "Energisa\n",
      "Com atuação em quatro estados da Amazônia Legal, a Energisa tem projetos que contribuem diretamente no desenvolvimento sustentável da região. O maior deles é o de desativação de ...   Cop 26: Brasil apoia declaração assinada por outros 104 países para combater desmatamento\n",
      "     Cop 26: Brasil apoia declaração assinada por outros 104 países para combater desmatamento   Ministro do Meio Ambiente abre participação brasileira na COP 26\n",
      "     Ministro do Meio Ambiente abre participação brasileira na COP 26   Avanços tímidos no G20 esvaziam expectativas para a COP 26\n",
      "     Encontro do g-20, em Roma, terminou neste domingo\n",
      "No que é considerado uma espécie de “esquenta” para a COP 26, que engrena nesta... — .... Isso significa adentrar a COP 26 com a sensação de que não será em Glasgow que o planeta será salvo.\n",
      "“Deixo Roma com esperanças...   Fotógrafa Marcela Bonfim tem fotos expostas na COP 26\n",
      "     Destaques do G1 RO.   Jovem indígena Txai, do povo Paiter Suruí de Rondônia, discursa na COP 26\n",
      "     O evento aconteceu nesta manhã na Escócia.   Príncipe Charles, herdeiro do trono britânico, discursou na abertura da COP-26\n",
      "     Faz 50 anos que ele defende causas ambientais - muito antes do tema estar em alta - e era considerado chato por isso. No discurso, o príncipe Charles disse que a escala da ameaça que enfrentamentos exige uma solução de nível global.   COP-26: Conferência das Nações Unidas começa em Glasgow, na Escócia\n",
      "     O mundo está de olho na cidade de Glasgow, na Escócia, onde começou a Conferência das Nações Unidas sobre mudanças climáticas. A expectativa é grande para que líderes de vários países apresentem medidas concretas para frear o aquecimento global.   Jovens ativistas levarão propostas para os líderes na COP 26\n",
      "     A ativista e mestre em Política Energética Eduarda Zoghbi falou ao #CidadeseSoluções sobre as propostas que ela e outros jovens levarão para os líderes na COP 26.   Na véspera do início da COP 26, líderes mundiais discutem ações mais firmes contra o aquecimento global\n",
      "     No comunicado final, os chefes de estado das 20 maiores economias do mundo se comprometeram a evitar que a temperatura do planeta fique um grau e meio mais quente em relação ao período pré-industrial. E para isso, concordaram em encerrar financiamentos público...   Pará vai falar sobre preservação da Amazônia na COP-26\n",
      "     Pará vai falar sobre preservação da Amazônia na COP-26   Estado vai tentar provar na Cop-26 que defende a floresta amazônica\n",
      "     Saiba mais na reportagem.   Na véspera do início da COP 26, líderes mundiais discutem ações mais firmes contra o aquecimento global\n",
      "     Na véspera do início da COP 26, líderes mundiais discutem ações mais firmes contra o aquecimento global\n",
      "A reunião do G20 termina... — ..., a população também encheu as ruas um dia antes do início da COP 26. Quem já chegou por lá foi a ativista Greta Thunberg...   COP-26: os desafios de Roraima em relação ao garimpo\n",
      "     Reportagem traz o desafio de Roraima com relação à preservação da Amazônia   Eliane: ‘Quem está sendo apedrejado na COP 26 é a política ambiental do Brasil’\n",
      "     O vice-presidente Hamilton Mourão justificou nesta sexta-feira (29) a ausência do presidente Jair Bolsonaro na COP 26 afirmando que \"todo mundo vai jogar pedra nele\". Veja a análise de Eliane Cantanhêde.   Em sessão extraordinária, vereadores aprovam viagem do prefeito de Rio Branco para participar da COP 26\n",
      "     Vereadores aprovam viagem do prefeito de Rio Branco para participar da COP 26\n",
      "Reprodução\n",
      "Por nove votos a dois, os vereadores... — ... devem participar da Conferência das Nações Unidas sobre Mudanças Climáticas, a COP 26. O embarque está previsto para o dia 1º...   Na véspera do início da COP 26, líderes mundiais discutem ações mais firmes contra o aquecimento global\n",
      "     Mesmo antes de começar, a 26ª Conferência das Nações Unidas sobre Mudanças Climáticas já é tema de debates na Europa.   Pará deve apresentar estratégias na COP 26 para se tornar estado ‘carbono neutro’\n",
      "     ... estará presente na Conferência do Clima da ONU, a 'Conferência das Partes' (COP – Conference of the Parts) de número 26, que tem... — ... em negócios sustentáveis e a criação de \"empregos verdes\". \n",
      "Decreto com diretrizes da bioeconomia será apresentado na COP 26...   'Todo mundo vai jogar pedra nele', diz Mourão sobre ausência de Bolsonaro na COP 26\n",
      "     'Todo mundo vai jogar pedra nele', diz Mourão sobre ausência de Jair Bolsonaro na COP 26\n",
      "O vice-presidente Hamilton Mourão... — ... justificou nesta sexta-feira (29) a ausência do presidente Jair Bolsonaro na COP 26 afirmando que \"todo mundo vai jogar pedra nele...   Cientistas cobram ação de líderes mundiais antes da COP 26\n",
      "     Cientistas pedem investimento anual de US$5 trilhões em 2030 para combater mudanças climáticas.   Governo do Pará apresenta ações desenvolvidas na agenda climática para a COP 26\n",
      "     Governo do Pará apresenta ações desenvolvidas na agenda climática para a COP 26.   Gestora ambiental do Conselho Indígena de RR participa do COP 26\n",
      "     Sineia do Vale vai representar Roraima no evento.\n"
     ]
    }
   ],
   "source": [
    "texto = []\n",
    "\n",
    "for bloco in soup.find_all(class_='widget--info__text-container'):\n",
    "    #print(bloco)\n",
    "    for href in bloco.find_all('a'):\n",
    "        titulo = href.find(class_=\"widget--info__title product-color\")\n",
    "        if(titulo != None):\n",
    "            print('titulo',titulo.text[7:-2])\n",
    "            texto.append(titulo.text[7:-2])\n",
    "        resumo = href.find(class_=\"widget--info__description\")\n",
    "        if(resumo != None):\n",
    "            texto.append(resumo.text)\n",
    "texto = ' '.join(texto)\n",
    "print(texto)"
   ]
  },
  {
   "cell_type": "markdown",
   "metadata": {},
   "source": [
    "# The word cloud \n",
    "\n",
    "Now that we have the information from G1, let's show the word cloud according to the frequency of terms.\n",
    "\n",
    "In this case, we have to cut the text into words (.split), convert them to lower caption (.lower), and remove pronouns, articles, and other common words to every text (the stop words)"
   ]
  },
  {
   "cell_type": "code",
   "execution_count": null,
   "metadata": {},
   "outputs": [],
   "source": [
    "import nltk\n",
    "\n",
    "stopwords = nltk.corpus.stopwords.words('portuguese') + ['cop']\n",
    "comment_words = ''\n",
    "\n",
    "tokens = texto.split()\n",
    "\n",
    "for i in range(len(tokens)):\n",
    "    tokens[i] = tokens[i].lower()\n",
    "    comment_words += \" \".join(tokens)+\" \""
   ]
  },
  {
   "cell_type": "markdown",
   "metadata": {},
   "source": [
    "# The plot \n",
    " \n",
    "To draw according to the theme, we use a mask as a baseline of the word cloud.\n",
    " \n",
    "The word cloud is created using the function WordCLoud. We can easily remove stopwords, decide the background color, among other attributes within the function. \n",
    " \n",
    "Matplotlib is used to draw the image."
   ]
  },
  {
   "cell_type": "code",
   "execution_count": 14,
   "metadata": {},
   "outputs": [
    {
     "name": "stderr",
     "output_type": "stream",
     "text": [
      "IOPub data rate exceeded.\n",
      "The notebook server will temporarily stop sending output\n",
      "to the client in order to avoid crashing it.\n",
      "To change this limit, set the config variable\n",
      "`--NotebookApp.iopub_data_rate_limit`.\n",
      "\n",
      "Current values:\n",
      "NotebookApp.iopub_data_rate_limit=1000000.0 (bytes/sec)\n",
      "NotebookApp.rate_limit_window=3.0 (secs)\n",
      "\n"
     ]
    }
   ],
   "source": [
    "import matplotlib.pyplot as plt\n",
    "import numpy as np\n",
    "from PIL import Imagenltk.download('stopwords')\n",
    "from wordcloud import WordCloud\n",
    "\n",
    "mask = np.array(Image.open('C:/Users/maria/Documents/portfolio/Untitled Folder/mask.png'))\n",
    "\n",
    "wordcloud = WordCloud(mask = mask, margin = 10,\n",
    "                background_color ='rgb(0, 0, 51)',\n",
    "                stopwords = stopwords,\n",
    "                min_font_size = 10).generate(comment_words)\n",
    "\n",
    "\n",
    "default_colors = wordcloud.to_array()\n",
    "plt.figure()\n",
    "plt.imshow(default_colors, interpolation=\"bilinear\")\n",
    "wordcloud.to_file(\"wordcloud.png\")\n",
    "plt.axis(\"off\")\n",
    "plt.show()\n",
    "\n",
    "\n"
   ]
  },
  {
   "cell_type": "markdown",
   "metadata": {},
   "source": [
    "One interesting sentence found in the cloud is 'jogar pedra' (throw rock).\n",
    "\n",
    "Looking for this news, we found the link: https://g1.globo.com/politica/noticia/2021/10/29/vai-chegar-em-um-lugar-em-que-todo-mundo-vai-jogar-pedra-nele-diz-mourao-sobre-ausencia-de-bolsonaro-na-cop-26.ghtml.\n",
    "\n",
    "The news shows the vice president of Brazil, Hamilton Mourão, trying to justify the absence of president Jair Bolsonaro in COP 26.\n",
    "\n",
    "\"We know that President Bolsonaro suffers a lot of criticism. So, he will reach a place where everyone will throw stones at him. There is a strong team there with the capacity to, let's say, carry out the negotiation strategy,\" said Mourão.\n"
   ]
  },
  {
   "cell_type": "code",
   "execution_count": 25,
   "metadata": {},
   "outputs": [
    {
     "data": {
      "image/png": "[encoded data removed]",
      "text/plain": [
       "<Figure size 432x288 with 1 Axes>"
      ]
     },
     "metadata": {
      "needs_background": "light"
     },
     "output_type": "display_data"
    },
    {
     "data": {
      "image/png": "[encoded data removed]",
      "text/plain": [
       "<Figure size 432x288 with 1 Axes>"
      ]
     },
     "metadata": {
      "needs_background": "light"
     },
     "output_type": "display_data"
    }
   ],
   "source": [
    "\n"
   ]
  },
  {
   "cell_type": "code",
   "execution_count": null,
   "metadata": {},
   "outputs": [],
   "source": []
  }
 ],
 "metadata": {
  "kernelspec": {
   "display_name": "Python 3",
   "language": "python",
   "name": "python3"
  },
  "language_info": {
   "codemirror_mode": {
    "name": "ipython",
    "version": 3
   },
   "file_extension": ".py",
   "mimetype": "text/x-python",
   "name": "python",
   "nbconvert_exporter": "python",
   "pygments_lexer": "ipython3",
   "version": "3.7.4"
  }
 },
 "nbformat": 4,
 "nbformat_minor": 2
}
